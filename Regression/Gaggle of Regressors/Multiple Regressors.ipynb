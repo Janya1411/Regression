{
 "cells": [
  {
   "cell_type": "code",
   "execution_count": 1,
   "metadata": {},
   "outputs": [],
   "source": [
    "import numpy as np\n",
    "import pandas as pd\n",
    "import matplotlib.pyplot as plt\n",
    "import seaborn as sns\n",
    "%matplotlib inline"
   ]
  },
  {
   "cell_type": "code",
   "execution_count": 2,
   "metadata": {},
   "outputs": [],
   "source": [
    "from sklearn.datasets import fetch_california_housing"
   ]
  },
  {
   "cell_type": "code",
   "execution_count": 3,
   "metadata": {},
   "outputs": [],
   "source": [
    "california = fetch_california_housing()"
   ]
  },
  {
   "cell_type": "code",
   "execution_count": 4,
   "metadata": {},
   "outputs": [],
   "source": [
    "df = pd.DataFrame(california.data,columns=california.feature_names)"
   ]
  },
  {
   "cell_type": "code",
   "execution_count": 6,
   "metadata": {},
   "outputs": [],
   "source": [
    "df['target'] = california.target"
   ]
  },
  {
   "cell_type": "code",
   "execution_count": 7,
   "metadata": {},
   "outputs": [],
   "source": [
    "X = df.drop('target',axis=1)\n",
    "y = df['target']"
   ]
  },
  {
   "cell_type": "code",
   "execution_count": 8,
   "metadata": {},
   "outputs": [],
   "source": [
    "from sklearn.preprocessing import StandardScaler"
   ]
  },
  {
   "cell_type": "code",
   "execution_count": 9,
   "metadata": {},
   "outputs": [],
   "source": [
    "sc = StandardScaler()"
   ]
  },
  {
   "cell_type": "code",
   "execution_count": 10,
   "metadata": {},
   "outputs": [],
   "source": [
    "X_scaled = sc.fit_transform(X)"
   ]
  },
  {
   "cell_type": "code",
   "execution_count": 11,
   "metadata": {},
   "outputs": [],
   "source": [
    "from sklearn.cross_validation import train_test_split"
   ]
  },
  {
   "cell_type": "code",
   "execution_count": 16,
   "metadata": {},
   "outputs": [],
   "source": [
    "X_train, X_test, y_train, y_test = train_test_split(X_scaled, y, test_size=0.2, random_state=101)"
   ]
  },
  {
   "cell_type": "code",
   "execution_count": 19,
   "metadata": {},
   "outputs": [],
   "source": [
    "from time import time\n",
    "\n",
    "from sklearn.linear_model import LinearRegression,RANSACRegressor,Lasso,Ridge\n",
    "from sklearn.tree import DecisionTreeRegressor\n",
    "from sklearn.neighbors import KNeighborsRegressor\n",
    "from sklearn.gaussian_process import GaussianProcessRegressor\n",
    "from sklearn.svm import SVR\n",
    "from sklearn.ensemble import RandomForestRegressor"
   ]
  },
  {
   "cell_type": "code",
   "execution_count": 17,
   "metadata": {},
   "outputs": [],
   "source": [
    "from sklearn.metrics import r2_score,explained_variance_score,mean_absolute_error"
   ]
  },
  {
   "cell_type": "code",
   "execution_count": 15,
   "metadata": {},
   "outputs": [],
   "source": [
    "regressors = [LinearRegression(),RANSACRegressor(),Lasso(),Ridge(),DecisionTreeRegressor(),KNeighborsRegressor()\n",
    "             ,GaussianProcessRegressor(),RandomForestRegressor(),SVR()]"
   ]
  },
  {
   "cell_type": "code",
   "execution_count": 18,
   "metadata": {},
   "outputs": [
    {
     "name": "stdout",
     "output_type": "stream",
     "text": [
      "LinearRegression(copy_X=True, fit_intercept=True, n_jobs=1, normalize=False)\n",
      "\t Training time: 0.158s\n",
      "\t Prediction time: 0.159s\n",
      "\t Explained vairance: 0.5971345049764809\n",
      "\t MAE: 0.5379335579317622\n",
      "\t R2_score: 0.5970946680312594\n",
      "\n",
      "RANSACRegressor(base_estimator=None, is_data_valid=None, is_model_valid=None,\n",
      "        loss='absolute_loss', max_skips=inf, max_trials=100,\n",
      "        min_samples=None, random_state=None, residual_metric=None,\n",
      "        residual_threshold=None, stop_n_inliers=inf, stop_probability=0.99,\n",
      "        stop_score=inf)\n",
      "\t Training time: 0.119s\n",
      "\t Prediction time: 0.119s\n",
      "\t Explained vairance: -0.3735950840113984\n",
      "\t MAE: 0.6574321580857648\n",
      "\t R2_score: -0.4562979999920509\n",
      "\n",
      "Lasso(alpha=1.0, copy_X=True, fit_intercept=True, max_iter=1000,\n",
      "   normalize=False, positive=False, precompute=False, random_state=None,\n",
      "   selection='cyclic', tol=0.0001, warm_start=False)\n",
      "\t Training time: 0.007s\n",
      "\t Prediction time: 0.007s\n",
      "\t Explained vairance: -2.220446049250313e-16\n",
      "\t MAE: 0.9146651812083577\n",
      "\t R2_score: -0.00011623575669661435\n",
      "\n",
      "Ridge(alpha=1.0, copy_X=True, fit_intercept=True, max_iter=None,\n",
      "   normalize=False, random_state=None, solver='auto', tol=0.001)\n",
      "\t Training time: 0.017s\n",
      "\t Prediction time: 0.017s\n",
      "\t Explained vairance: 0.5971226652595478\n",
      "\t MAE: 0.5379337103614291\n",
      "\t R2_score: 0.5970827985774678\n",
      "\n",
      "DecisionTreeRegressor(criterion='mse', max_depth=None, max_features=None,\n",
      "           max_leaf_nodes=None, min_impurity_decrease=0.0,\n",
      "           min_impurity_split=None, min_samples_leaf=1,\n",
      "           min_samples_split=2, min_weight_fraction_leaf=0.0,\n",
      "           presort=False, random_state=None, splitter='best')\n",
      "\t Training time: 0.218s\n",
      "\t Prediction time: 0.221s\n",
      "\t Explained vairance: 0.6412582287294764\n",
      "\t MAE: 0.44769154888796614\n",
      "\t R2_score: 0.641248245726689\n",
      "\n",
      "KNeighborsRegressor(algorithm='auto', leaf_size=30, metric='minkowski',\n",
      "          metric_params=None, n_jobs=1, n_neighbors=5, p=2,\n",
      "          weights='uniform')\n",
      "\t Training time: 0.016s\n",
      "\t Prediction time: 0.426s\n",
      "\t Explained vairance: 0.6839275808288505\n",
      "\t MAE: 0.4416548716085271\n",
      "\t R2_score: 0.6832034180916675\n",
      "\n",
      "GaussianProcessRegressor(alpha=1e-10, copy_X_train=True, kernel=None,\n",
      "             n_restarts_optimizer=0, normalize_y=False,\n",
      "             optimizer='fmin_l_bfgs_b', random_state=None)\n",
      "\t Training time: 138.053s\n",
      "\t Prediction time: 141.437s\n",
      "\t Explained vairance: -3673.488150761373\n",
      "\t MAE: 17.16498255334343\n",
      "\t R2_score: -3673.702909747821\n",
      "\n",
      "RandomForestRegressor(bootstrap=True, criterion='mse', max_depth=None,\n",
      "           max_features='auto', max_leaf_nodes=None,\n",
      "           min_impurity_decrease=0.0, min_impurity_split=None,\n",
      "           min_samples_leaf=1, min_samples_split=2,\n",
      "           min_weight_fraction_leaf=0.0, n_estimators=10, n_jobs=1,\n",
      "           oob_score=False, random_state=None, verbose=0, warm_start=False)\n",
      "\t Training time: 1.352s\n",
      "\t Prediction time: 1.371s\n",
      "\t Explained vairance: 0.774832241154045\n",
      "\t MAE: 0.3552141072686631\n",
      "\t R2_score: 0.774829474169033\n",
      "\n",
      "SVR(C=1.0, cache_size=200, coef0=0.0, degree=3, epsilon=0.1, gamma='auto',\n",
      "  kernel='rbf', max_iter=-1, shrinking=True, tol=0.001, verbose=False)\n",
      "\t Training time: 11.191s\n",
      "\t Prediction time: 12.550s\n",
      "\t Explained vairance: 0.7315916379385968\n",
      "\t MAE: 0.4016488434954679\n",
      "\t R2_score: 0.725953551568199\n",
      "\n"
     ]
    }
   ],
   "source": [
    "head = 10\n",
    "\n",
    "for model in regressors[:10]:\n",
    "    start = time()\n",
    "    model.fit(X_train,y_train)\n",
    "    train_time = time() - start\n",
    "    predictions = model.predict(X_test)\n",
    "    predict_time = time() - start\n",
    "    print(model)\n",
    "    print(\"\\t Training time: %0.3fs\"%train_time)\n",
    "    print(\"\\t Prediction time: %0.3fs\"%predict_time)\n",
    "    print(\"\\t Explained vairance:\",explained_variance_score(y_test,predictions))\n",
    "    print(\"\\t MAE:\",mean_absolute_error(y_test,predictions))\n",
    "    print(\"\\t R2_score:\",r2_score(y_test,predictions))\n",
    "    print()"
   ]
  },
  {
   "cell_type": "code",
   "execution_count": null,
   "metadata": {},
   "outputs": [],
   "source": [
    "RANSACRegressor()"
   ]
  },
  {
   "cell_type": "code",
   "execution_count": null,
   "metadata": {},
   "outputs": [],
   "source": []
  },
  {
   "cell_type": "code",
   "execution_count": null,
   "metadata": {},
   "outputs": [],
   "source": []
  },
  {
   "cell_type": "code",
   "execution_count": null,
   "metadata": {},
   "outputs": [],
   "source": []
  }
 ],
 "metadata": {
  "kernelspec": {
   "display_name": "Python 3",
   "language": "python",
   "name": "python3"
  },
  "language_info": {
   "codemirror_mode": {
    "name": "ipython",
    "version": 3
   },
   "file_extension": ".py",
   "mimetype": "text/x-python",
   "name": "python",
   "nbconvert_exporter": "python",
   "pygments_lexer": "ipython3",
   "version": "3.6.5"
  }
 },
 "nbformat": 4,
 "nbformat_minor": 2
}
